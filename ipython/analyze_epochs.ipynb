{
 "cells": [
  {
   "cell_type": "code",
   "execution_count": 115,
   "metadata": {
    "collapsed": true
   },
   "outputs": [],
   "source": [
    "# Import matplotlib for graphs, set inline\n",
    "from matplotlib import pyplot as plt\n",
    "%matplotlib inline\n",
    "import numpy as np\n",
    "import json"
   ]
  },
  {
   "cell_type": "code",
   "execution_count": 154,
   "metadata": {
    "collapsed": false
   },
   "outputs": [],
   "source": [
    "inputs = [\n",
    "#           {\n",
    "#             \"name\": 1,\n",
    "#             \"path\": '../data/models/1/cv/checkpoint_18700.json',\n",
    "#             \"epoch\": 30\n",
    "#            },\n",
    "#           {\n",
    "#             \"name\": 2,\n",
    "#             \"path\": '../data/models/2/cv/checkpoint_6250.json',\n",
    "#             \"epoch\": 14.10\n",
    "#           },\n",
    "#           {\n",
    "#             \"name\": 3,\n",
    "#             \"path\": '../data/models/3/cv/checkpoint_19250.json',\n",
    "#             \"epoch\": 15\n",
    "#           },\n",
    "#           {\n",
    "#             \"name\": 4,\n",
    "#             \"path\": '../data/models/4/cv/checkpoint_19250.json',\n",
    "#                 \"epoch\": 15\n",
    "#            },\n",
    "#           {\n",
    "#             \"name\": 5,\n",
    "#             \"path\": '../data/models/5/cv/checkpoint_10250.json',\n",
    "#             \"epoch\": 8.5\n",
    "#           },\n",
    "#           {\n",
    "#             \"name\": 6,\n",
    "#             \"path\":  '../data/models/6/cv/checkpoint_272000.json',\n",
    "#             \"epoch\": 21\n",
    "#           },\n",
    "          {\n",
    "            \"name\": 7,\n",
    "            \"path\":  '../data/models/7/cv/checkpoint_98000.json',\n",
    "            \"epoch\": 14\n",
    "          },\n",
    "          {\n",
    "            \"name\": 8,\n",
    "            \"path\": '../data/models/8/cv/checkpoint_38000.json',\n",
    "            \"epoch\": 6.58\n",
    "          },\n",
    "          {\n",
    "            \"name\": 9,\n",
    "            \"path\": '../data/models/9/cv/checkpoint_43000.json',\n",
    "            \"epoch\": 7.31\n",
    "          }\n",
    "        \n",
    "        ]\n"
   ]
  },
  {
   "cell_type": "code",
   "execution_count": 155,
   "metadata": {
    "collapsed": false
   },
   "outputs": [],
   "source": [
    "# load the input data\n",
    "checkpoints = map(lambda x: json.loads(open(x.get(\"path\")).read()), inputs)"
   ]
  },
  {
   "cell_type": "code",
   "execution_count": 156,
   "metadata": {
    "collapsed": false
   },
   "outputs": [
    {
     "name": "stdout",
     "output_type": "stream",
     "text": [
      "# 7 min val loss: 0.388 at epoch 13.86 (iteration 98000)\n",
      "# 8 min val loss: 0.393 at epoch 6.41 (iteration 38000)\n",
      "# 9 min val loss: 0.398 at epoch 7.14 (iteration 43000)\n"
     ]
    },
    {
     "data": {
      "image/png": "[encoded data removed]",
      "text/plain": [
       "<matplotlib.figure.Figure at 0x7faba49027d0>"
      ]
     },
     "metadata": {},
     "output_type": "display_data"
    }
   ],
   "source": [
    "def add_domain(range_vals):\n",
    "    domain = []\n",
    "    for i in range(len(range_vals)):\n",
    "        domain.append(translate(i, 0, len(range_vals), 0, epochs))\n",
    "    return (domain, range_vals)\n",
    "    \n",
    "def translate(sensor_val, in_from, in_to, out_from, out_to):\n",
    "    out_range = out_to - out_from\n",
    "    in_range = in_to - in_from\n",
    "    in_val = sensor_val - in_from\n",
    "    val=(float(in_val)/in_range)*out_range\n",
    "    out_val = out_from+val\n",
    "    return out_val\n",
    "\n",
    "# checkpoints = filter(lambda a: a.get(\"name\") > 3, checkpoints)\n",
    "\n",
    "for i in range(len(checkpoints)):\n",
    "    checkpoint = checkpoints[i]\n",
    "    epochs = inputs[i].get('epoch')\n",
    "    val_loss = checkpoint['val_loss_history']\n",
    "    train_loss = checkpoint['train_loss_history']\n",
    "    loss = add_domain(val_loss)\n",
    "    t_loss = add_domain(train_loss)\n",
    "    m = min(val_loss)\n",
    "    print ('# %d min val loss: %.3f at epoch %.2f (iteration %s)' % \\\n",
    "        (inputs[i].get('name'), \\\n",
    "         m, \\\n",
    "         translate(val_loss.index(m), 0, len(val_loss), 0, epochs), \\\n",
    "         checkpoint['val_loss_history_it'][val_loss.index(m)]\n",
    "        ))\n",
    "    plt.plot(loss[0], loss[1], label=inputs[i].get('name'))\n",
    "    # uncomment to include training loss\n",
    "    # plt.plot(t_loss[0], t_loss[1], label='%s training' % inputs[i].get('name'))\n",
    "\n",
    "plt.ylim([0.2, 1.1])\n",
    "plt.xlim([0, 10])\n",
    "plt.ylabel('loss')\n",
    "plt.xlabel('epochs')\n",
    "plt.legend()\n",
    "plt.show()"
   ]
  },
  {
   "cell_type": "code",
   "execution_count": null,
   "metadata": {
    "collapsed": false
   },
   "outputs": [],
   "source": []
  }
 ],
 "metadata": {
  "kernelspec": {
   "display_name": "Python 2",
   "language": "python",
   "name": "python2"
  },
  "language_info": {
   "codemirror_mode": {
    "name": "ipython",
    "version": 2
   },
   "file_extension": ".py",
   "mimetype": "text/x-python",
   "name": "python",
   "nbconvert_exporter": "python",
   "pygments_lexer": "ipython2",
   "version": "2.7.12"
  }
 },
 "nbformat": 4,
 "nbformat_minor": 1
}
