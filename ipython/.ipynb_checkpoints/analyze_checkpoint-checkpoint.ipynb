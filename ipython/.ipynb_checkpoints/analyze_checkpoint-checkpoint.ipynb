{
 "cells": [
  {
   "cell_type": "markdown",
   "metadata": {},
   "source": [
    "## Import libraries"
   ]
  },
  {
   "cell_type": "code",
   "execution_count": 40,
   "metadata": {
    "collapsed": true
   },
   "outputs": [],
   "source": [
    "# Import matplotlib for graphs, set inline\n",
    "from matplotlib import pyplot as plt\n",
    "%matplotlib inline\n",
    "import numpy as np\n",
    "import json"
   ]
  },
  {
   "cell_type": "markdown",
   "metadata": {},
   "source": [
    "## Load torch-rnn checkpoint"
   ]
  },
  {
   "cell_type": "code",
   "execution_count": 41,
   "metadata": {
    "collapsed": true
   },
   "outputs": [],
   "source": [
    "# input_file = '../data/models/1/cv/checkpoint_18700.json'\n",
    "input_file = '../data/models/2/cv/checkpoint_6250.json'"
   ]
  },
  {
   "cell_type": "code",
   "execution_count": 42,
   "metadata": {
    "collapsed": false
   },
   "outputs": [
    {
     "ename": "IOError",
     "evalue": "[Errno 2] No such file or directory: '../data/models/2/checkpoint_6250.json'",
     "output_type": "error",
     "traceback": [
      "\u001b[0;31m---------------------------------------------------------------------------\u001b[0m",
      "\u001b[0;31mIOError\u001b[0m                                   Traceback (most recent call last)",
      "\u001b[0;32m<ipython-input-42-fbaca2d970d6>\u001b[0m in \u001b[0;36m<module>\u001b[0;34m()\u001b[0m\n\u001b[1;32m      1\u001b[0m \u001b[0;31m# load input as json\u001b[0m\u001b[0;34m\u001b[0m\u001b[0;34m\u001b[0m\u001b[0m\n\u001b[0;32m----> 2\u001b[0;31m \u001b[0mfile_data\u001b[0m \u001b[0;34m=\u001b[0m \u001b[0mopen\u001b[0m\u001b[0;34m(\u001b[0m\u001b[0minput_file\u001b[0m\u001b[0;34m)\u001b[0m\u001b[0;34m.\u001b[0m\u001b[0mread\u001b[0m\u001b[0;34m(\u001b[0m\u001b[0;34m)\u001b[0m\u001b[0;34m\u001b[0m\u001b[0m\n\u001b[0m\u001b[1;32m      3\u001b[0m \u001b[0mcheckpoint\u001b[0m \u001b[0;34m=\u001b[0m \u001b[0mjson\u001b[0m\u001b[0;34m.\u001b[0m\u001b[0mloads\u001b[0m\u001b[0;34m(\u001b[0m\u001b[0mfile_data\u001b[0m\u001b[0;34m)\u001b[0m\u001b[0;34m\u001b[0m\u001b[0m\n\u001b[1;32m      4\u001b[0m \u001b[0;34m\u001b[0m\u001b[0m\n\u001b[1;32m      5\u001b[0m \u001b[0;31m# print stats\u001b[0m\u001b[0;34m\u001b[0m\u001b[0;34m\u001b[0m\u001b[0m\n",
      "\u001b[0;31mIOError\u001b[0m: [Errno 2] No such file or directory: '../data/models/2/checkpoint_6250.json'"
     ]
    }
   ],
   "source": [
    "# load input as json\n",
    "file_data = open(input_file).read()\n",
    "checkpoint = json.loads(file_data)\n",
    "\n",
    "# print stats\n",
    "it_per_epoch = int(checkpoint['val_loss_history_it'][-1]/checkpoint['opt']['max_epochs'])\n",
    "print('')\n",
    "print('iteration:         %d' % checkpoint['i'])\n",
    "# WARNING: this field will only be valid if this is the last checkpoint\n",
    "print('iterations/epoch:  %d'% it_per_epoch)\n",
    "print('rnn size:          %d' % checkpoint['opt']['rnn_size'])\n",
    "print('num layers:        %d' % checkpoint['opt']['num_layers'])\n",
    "print('batch size:        %d' % checkpoint['opt']['batch_size'])\n",
    "print('sequence length:   %d' % checkpoint['opt']['seq_length'])\n",
    "print('learning rate:     %f' % checkpoint['opt']['learning_rate'])\n",
    "print('dropout:           %f' % checkpoint['opt']['dropout'])\n",
    "\n",
    "\n"
   ]
  },
  {
   "cell_type": "markdown",
   "metadata": {
    "collapsed": false
   },
   "source": [
    "## Plot loss"
   ]
  },
  {
   "cell_type": "code",
   "execution_count": null,
   "metadata": {
    "collapsed": false
   },
   "outputs": [],
   "source": [
    "def mean(numbers):\n",
    "    return float(sum(numbers)) / max(len(numbers), 1)\n",
    "\n",
    "# average the training loss every 250 iterations\n",
    "mean_training_loss = []\n",
    "for i in range(0, len(checkpoint['train_loss_history']), 250):\n",
    "    mean_training_loss.append(mean(checkpoint['train_loss_history'][i : i + 250]))\n",
    "\n",
    "# use stride of 248 because any iteration that is a multiple of 250 has a\n",
    "# _very_ high value for some reason. Investigate.\n",
    "plt.plot(checkpoint['train_loss_history'][250::248], label=\"Training Loss\")\n",
    "plt.plot(mean_training_loss, label=\"Mean Training Loss\")\n",
    "plt.plot(checkpoint['val_loss_history'], label=\"Validation Loss\")\n",
    "\n",
    "plt.ylim([0.2, 1.1])\n",
    "plt.ylabel('loss')\n",
    "plt.xlabel('250 iterations')\n",
    "plt.legend()\n",
    "# plt.show()\n",
    "\n",
    "# uncomment to save plot\n",
    "plt.savefig('training_loss.png')\n",
    "\n",
    "# find the checkpoint with the minimum validation loss\n",
    "min_index, min_value_1 = min(enumerate(checkpoint['val_loss_history']), key=lambda v: v[1])\n",
    "print('checkpoint %d contains the minimum validation loss of %f' % (((min_index + 1) * 250), min_value_1))\n",
    "min_index, min_value_2 = min(enumerate(mean_training_loss), key=lambda v: v[1])\n",
    "print('minimum mean training loss is %f' % min_value_2)\n",
    "print('training/validation difference: %f' % (min_value_2 - min_value_1))"
   ]
  },
  {
   "cell_type": "markdown",
   "metadata": {},
   "source": [
    "## Print loss at specific iteration"
   ]
  },
  {
   "cell_type": "code",
   "execution_count": null,
   "metadata": {
    "collapsed": true
   },
   "outputs": [],
   "source": [
    "iteration = 6000 # must be evenly divisible by checkpoint_interval"
   ]
  },
  {
   "cell_type": "code",
   "execution_count": null,
   "metadata": {
    "collapsed": false
   },
   "outputs": [],
   "source": [
    "checkpoint_interval = 250\n",
    "chkpnt = iteration / checkpoint_interval\n",
    "print(\"iteration: %d\" % iteration)\n",
    "print(\"validation loss: %f\" % checkpoint['val_loss_history'][chkpnt])\n",
    "print(\"mean training loss: %f\" % mean_training_loss[chkpnt])"
   ]
  },
  {
   "cell_type": "code",
   "execution_count": null,
   "metadata": {
    "collapsed": true
   },
   "outputs": [],
   "source": []
  }
 ],
 "metadata": {
  "kernelspec": {
   "display_name": "Python 2",
   "language": "python",
   "name": "python2"
  },
  "language_info": {
   "codemirror_mode": {
    "name": "ipython",
    "version": 2
   },
   "file_extension": ".py",
   "mimetype": "text/x-python",
   "name": "python",
   "nbconvert_exporter": "python",
   "pygments_lexer": "ipython2",
   "version": "2.7.12"
  }
 },
 "nbformat": 4,
 "nbformat_minor": 1
}
